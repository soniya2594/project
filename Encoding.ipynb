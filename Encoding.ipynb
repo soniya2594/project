{
 "cells": [
  {
   "cell_type": "markdown",
   "id": "dd4253a5",
   "metadata": {},
   "source": [
    "# Encoding :"
   ]
  },
  {
   "cell_type": "code",
   "execution_count": null,
   "id": "898f26d9",
   "metadata": {},
   "outputs": [],
   "source": [
    "1. Label Encoding\n",
    "2. One Hot Encoding\n",
    "3. Hash Encoding\n",
    "4. Binary Encoding"
   ]
  },
  {
   "cell_type": "markdown",
   "id": "2d349855",
   "metadata": {},
   "source": [
    "# 1. Label Encoding :"
   ]
  },
  {
   "cell_type": "code",
   "execution_count": null,
   "id": "b4e430fe",
   "metadata": {},
   "outputs": [],
   "source": [
    "1. In Label encoding, each label is converted into an integer value.\n",
    "2. In machine learning, we usually deal with datasets that contain multiple labels in \n",
    "   one or more than one column. \n",
    "3. These labels can be in the form of words or numbers. \n",
    "4. To make the data understandable or in human-readable form, the training data is \n",
    "   often labelled in words. \n",
    "5. Label Encoding refers to converting the labels into a numeric form so as to \n",
    "   convert them into the machine-readable form.\n",
    "6. A label with a high value may be considered to have high priority than a label having a lower value.\n",
    "    \n",
    "    High Medium Low \n",
    "    High : 0\n",
    "    Low  : 1\n",
    "    Medium : 2\n"
   ]
  },
  {
   "cell_type": "markdown",
   "id": "51f0411e",
   "metadata": {},
   "source": [
    "# 2. One Hot Encoding :"
   ]
  },
  {
   "cell_type": "code",
   "execution_count": null,
   "id": "4f5940a3",
   "metadata": {},
   "outputs": [],
   "source": [
    "1. Categorical variables are usually represented as ‘strings’ or ‘categories’ and are finite in number. \n",
    "2. Categorical data encoding technique when the features are nominal(do not have any order). \n",
    "3. In one hot encoding, for each level of a categorical feature, we create a new variable. \n",
    "4. Each category is mapped with a binary variable containing either 0 or 1. \n",
    "5. Here, 0 represents the absence, and 1 represents the presence of that category.\n",
    "6. In this technique, we each of the categorical parameters, it will prepare separate columns \n",
    "   for both Male and Female label. \n",
    "7. SO,whenever there is Male in Gender, it will 1 in Male column and 0 in Female column and vice-versa.\n",
    "Ex : \n",
    "Gender \n",
    "\n",
    "         Male    Female\n",
    "Male       1       0\n",
    "Female     0       1\n",
    "Female     0       1\n",
    "Female     0       1\n",
    "Female     0       1\n",
    "Male       1       0\n",
    "Male       1       0\n",
    "\n",
    "Ex : 7 Unique Values\n",
    "      'four', 'six', 'five', 'three', 'twelve', 'two', 'eight' \n",
    "    \n",
    "three    0      0       0       1         0        0      0\n",
    "eight    0      0       0       0         0        0      1\n",
    "\n",
    "Ex :\n",
    "\n",
    "df_test = pd.DataFrame({'Test':['Low','Medium','Medium','High','High','Low']})\n",
    "\n",
    "df_new = pd.get_dummies(df_test,columns=['Test'],prefix = 'test')\n",
    "df_new"
   ]
  },
  {
   "cell_type": "markdown",
   "id": "9fb908a7",
   "metadata": {},
   "source": [
    "# 3. Hash Encoding :"
   ]
  },
  {
   "cell_type": "code",
   "execution_count": null,
   "id": "1361b5c4",
   "metadata": {},
   "outputs": [],
   "source": [
    "Hashing :\n",
    "1. It is the transformation of arbitrary size input in the form of a fixed-size value.\n",
    "2. We use hashing algorithms to perform hashing operations i.e to generate the hash value of an input.\n",
    "3. Hashing is a one-way process, in other words,one can not generate original input from the hash representation.\n",
    "4. Hashing has several applications like data retrieval,checking data corruption, and in data encryption also. "
   ]
  },
  {
   "cell_type": "markdown",
   "id": "f351240c",
   "metadata": {},
   "source": [
    "# 4. Binary Encoding :"
   ]
  },
  {
   "cell_type": "code",
   "execution_count": null,
   "id": "295a3d3d",
   "metadata": {},
   "outputs": [],
   "source": [
    "Binary encoding is a combination of Hash encoding and one-hot encoding."
   ]
  },
  {
   "cell_type": "markdown",
   "id": "13a75f13",
   "metadata": {},
   "source": [
    "# Train and Test Data :"
   ]
  },
  {
   "cell_type": "code",
   "execution_count": null,
   "id": "1363ee97",
   "metadata": {},
   "outputs": [],
   "source": [
    "Training data : \n",
    "1. It is the data you use to train an algorithm or machine learning model to predict \n",
    "   the outcome you design your model to predict. \n",
    "2. Training set is the one on which we train and fit our model basically to fit the parameters. \n",
    "3. Training data's output is available to model.\n",
    "4. Training data include labels to monitor performance metrics of the model.\n",
    "5. Training set—a subset to train a model. \n",
    "    \n",
    "Test data : \n",
    "1. It is used to measure the performance, such as accuracy or efficiency, \n",
    "   of the algorithm you are using to train the machine.\n",
    "2. Test data is used only to assess performance of model.\n",
    "3. Testing data is the unseen data for which predictions have to be made.\n",
    "4. Testing data should be unlabeled.\n",
    "5. Test data provides a final, real-world check of an unseen dataset to \n",
    "   confirm that the ML algorithm was trained effectively.\n",
    "6. Test set—a subset to test the trained model."
   ]
  }
 ],
 "metadata": {
  "kernelspec": {
   "display_name": "Python 3",
   "language": "python",
   "name": "python3"
  },
  "language_info": {
   "codemirror_mode": {
    "name": "ipython",
    "version": 3
   },
   "file_extension": ".py",
   "mimetype": "text/x-python",
   "name": "python",
   "nbconvert_exporter": "python",
   "pygments_lexer": "ipython3",
   "version": "3.8.8"
  }
 },
 "nbformat": 4,
 "nbformat_minor": 5
}
